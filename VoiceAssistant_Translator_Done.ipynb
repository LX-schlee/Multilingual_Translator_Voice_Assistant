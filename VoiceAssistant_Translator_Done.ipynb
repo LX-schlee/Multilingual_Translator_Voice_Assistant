{
 "cells": [
  {
   "cell_type": "markdown",
   "metadata": {},
   "source": [
    "#### Imports"
   ]
  },
  {
   "cell_type": "code",
   "execution_count": 16,
   "metadata": {},
   "outputs": [],
   "source": [
    "import speech_recognition as sr \n",
    "from gtts import gTTS\n",
    "import playsound \n",
    "import translators as ts\n",
    "import os "
   ]
  },
  {
   "cell_type": "code",
   "execution_count": null,
   "metadata": {},
   "outputs": [],
   "source": [
    "# English - Hindi\n",
    "# German - Russian\n",
    "# English - Spanish"
   ]
  },
  {
   "cell_type": "markdown",
   "metadata": {},
   "source": [
    "#### Code Building"
   ]
  },
  {
   "cell_type": "code",
   "execution_count": 17,
   "metadata": {},
   "outputs": [],
   "source": [
    "# convert speech to text - English\n",
    "def melania_listen_en():\n",
    "    # create recognizer\n",
    "    r = sr.Recognizer()\n",
    "    \n",
    "    with sr.Microphone() as source:\n",
    "        # use the listen function so the recognizer can catch the source (our microphone)\n",
    "        audio = r.listen(source)\n",
    "        text = r.recognize_google(audio, language='en')\n",
    "    \n",
    "    text = text.lower()\n",
    "    return text\n",
    "\n",
    "# convert speech to text - German\n",
    "def melania_listen_de():\n",
    "    # create recognizer\n",
    "    r = sr.Recognizer()\n",
    "    \n",
    "    with sr.Microphone() as source:\n",
    "        # use the listen function so the recognizer can catch the source (our microphone)\n",
    "        audio = r.listen(source)\n",
    "        text = r.recognize_google(audio, language='de')\n",
    "    \n",
    "    text = text.lower()\n",
    "    return text\n",
    "\n",
    "# convert text to speech - English\n",
    "def melania_talk_en(text):\n",
    "    # create audio\n",
    "    file_name ='audio_data.mp3'\n",
    "    # convert text to speech\n",
    "    tts = gTTS(text = text, lang='en')\n",
    "    # save file\n",
    "    tts.save(file_name)\n",
    "    # play file\n",
    "    playsound.playsound(file_name)\n",
    "    # remove file\n",
    "    os.remove(file_name)\n",
    "\n",
    "# convert text to speech - Hindi\n",
    "def melania_talk_hi(text):\n",
    "    # create audio\n",
    "    file_name ='audio_data.mp3'\n",
    "    # convert text to speech\n",
    "    tts = gTTS(text = text, lang='hi')\n",
    "    # save file\n",
    "    tts.save(file_name)\n",
    "    # play file\n",
    "    playsound.playsound(file_name)\n",
    "    # remove file\n",
    "    os.remove(file_name)\n",
    "\n",
    "# convert text to speech - Russian\n",
    "def melania_talk_ru(text):\n",
    "    # create audio\n",
    "    file_name ='audio_data.mp3'\n",
    "    # convert text to speech\n",
    "    tts = gTTS(text = text, lang='ru')\n",
    "    # save file\n",
    "    tts.save(file_name)\n",
    "    # play file\n",
    "    playsound.playsound(file_name)\n",
    "    # remove file\n",
    "    os.remove(file_name)\n",
    "    \n",
    "# convert text to speech - Spanish\n",
    "def melania_talk_es(text):\n",
    "    # create audio\n",
    "    file_name ='audio_data.mp3'\n",
    "    # convert text to speech\n",
    "    tts = gTTS(text = text, lang='es')\n",
    "    # save file\n",
    "    tts.save(file_name)\n",
    "    # play file\n",
    "    playsound.playsound(file_name)\n",
    "    # remove file\n",
    "    os.remove(file_name)\n",
    "    \n",
    "# translator english-spanish\n",
    "def translator_en_es(text):\n",
    "    melania_talk_es(ts.google(text, from_language='en', to_language='es'))\n",
    "\n",
    "# translator english-hindi\n",
    "def translator_en_hi(text):\n",
    "    melania_talk_hi(ts.google(text, from_language='en', to_language='hi')) \n",
    "\n",
    "# translator german-russian\n",
    "def translator_de_ru(text):\n",
    "    melania_talk_ru(ts.google(text, from_language='de', to_language='ru')) \n",
    "    \n",
    "    \n",
    "# create a function which will give us back a reply based on the input text\n",
    "def melania_reply(text):\n",
    "    \n",
    "    # translator\n",
    "    if 'translate' in text:\n",
    "        \n",
    "        while True:\n",
    "            \n",
    "            melania_talk_en('I will choose the right translator for you. Let me know the source language and the target language.')\n",
    "            source_target_lang = melania_listen_en()\n",
    "            print(source_target_lang)\n",
    "            \n",
    "            # english - spanish\n",
    "            if 'english to spanish' in source_target_lang:\n",
    "                melania_talk_en('Got it, you need a translator from English to Spanish. What can I translate for you?')\n",
    "                while True:\n",
    "                    text_to_translate = melania_listen_en()\n",
    "                    print(text_to_translate)\n",
    "                    \n",
    "                    if text_to_translate != 'switch translator':\n",
    "                        translator_en_es(text_to_translate)\n",
    "                    else: \n",
    "                        break\n",
    "            \n",
    "            # german - russian\n",
    "            elif 'german to russian' in source_target_lang:\n",
    "                melania_talk_en('Got it, you need a translator from German to Russian. What can I translate for you?')\n",
    "                while True:\n",
    "                    text_to_translate = melania_listen_de()\n",
    "                    print(text_to_translate)\n",
    "                    \n",
    "                    if text_to_translate != 'übersetzer wechseln':\n",
    "                        translator_de_ru(text_to_translate)\n",
    "                    else: \n",
    "                        break\n",
    "            \n",
    "            # english - hindi\n",
    "            elif 'english to hindi' in source_target_lang:\n",
    "                melania_talk_en('Got it, you need a translator from English to Hindi. What can I translate for you?')\n",
    "                while True:\n",
    "                    text_to_translate = melania_listen_en()\n",
    "                    print(text_to_translate)\n",
    "                    \n",
    "                    if text_to_translate != 'switch translator':\n",
    "                        translator_en_hi(text_to_translate)\n",
    "                    else: \n",
    "                        break\n",
    "                   \n",
    "            elif 'turn off translator':\n",
    "                melania_talk_en('It was a pleasure to do the translation job. Wish you a great day!')\n",
    "                break\n",
    "            \n",
    "            else:\n",
    "                melania_talk_en('Sorry, I did not get what you said')\n",
    "      \n",
    "    \n",
    "    else:\n",
    "        melania_talk_en('Sorry, I can not support you with that.')"
   ]
  },
  {
   "cell_type": "code",
   "execution_count": null,
   "metadata": {},
   "outputs": [],
   "source": []
  },
  {
   "cell_type": "markdown",
   "metadata": {},
   "source": [
    "#### Code Execution"
   ]
  },
  {
   "cell_type": "code",
   "execution_count": null,
   "metadata": {},
   "outputs": [],
   "source": [
    "def melania_run():\n",
    "    melania_talk_en('Hi there. Nice to meet you. I am Melania, your personal translator. What is your name?')\n",
    "    listen_name = melania_listen_en()\n",
    "    melania_talk_en('Hi ' + listen_name + ' how can I help you?')\n",
    "    \n",
    "    listen_assistant = melania_listen_en()\n",
    "    print(listen_assistant)\n",
    "    melania_reply(listen_assistant)\n",
    "    \n",
    "melania_run()  \n"
   ]
  },
  {
   "cell_type": "markdown",
   "metadata": {},
   "source": [
    "#### Examples and Preparation"
   ]
  },
  {
   "cell_type": "code",
   "execution_count": null,
   "metadata": {},
   "outputs": [],
   "source": [
    "a = melania_listen_de()\n",
    "print(a) "
   ]
  },
  {
   "cell_type": "code",
   "execution_count": 5,
   "metadata": {},
   "outputs": [
    {
     "name": "stderr",
     "output_type": "stream",
     "text": [
      "c:\\users\\schlee\\appdata\\local\\programs\\python\\python39\\lib\\site-packages\\translators\\apis.py:119: UserWarning: Did not get a complete language map. And do not use `from_language=\"auto\"`.\n",
      "  warnings.warn('Did not get a complete language map. And do not use `from_language=\"auto\"`.')\n"
     ]
    }
   ],
   "source": [
    "translator_de_ru('Ich möchte in den Supermarkt gehen')"
   ]
  },
  {
   "cell_type": "code",
   "execution_count": null,
   "metadata": {},
   "outputs": [],
   "source": [
    "melania_listen_de"
   ]
  }
 ],
 "metadata": {
  "kernelspec": {
   "display_name": "Python 3",
   "language": "python",
   "name": "python3"
  },
  "language_info": {
   "codemirror_mode": {
    "name": "ipython",
    "version": 3
   },
   "file_extension": ".py",
   "mimetype": "text/x-python",
   "name": "python",
   "nbconvert_exporter": "python",
   "pygments_lexer": "ipython3",
   "version": "3.9.2"
  }
 },
 "nbformat": 4,
 "nbformat_minor": 4
}
